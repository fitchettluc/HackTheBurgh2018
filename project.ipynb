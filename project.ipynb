{
 "cells": [
  {
   "cell_type": "code",
   "execution_count": 453,
   "metadata": {},
   "outputs": [],
   "source": [
    "import numpy as np\n",
    "from sklearn.cluster import KMeans\n",
    "import csv \n",
    "import pandas as pd\n",
    "import matplotlib.pyplot as plt\n",
    "from sklearn.decomposition import PCA\n",
    "from scipy.cluster.hierarchy import linkage\n",
    "from sklearn.preprocessing import Imputer\n",
    "import math"
   ]
  },
  {
   "cell_type": "code",
   "execution_count": 454,
   "metadata": {},
   "outputs": [],
   "source": [
    "training_data = pd.read_csv(\"data_set.csv\", index_col=0).as_matrix() + 1 # add one smoothing\n",
    "training_labels = pd.read_csv(\"data_set.csv\", usecols=[0]).as_matrix()"
   ]
  },
  {
   "cell_type": "code",
   "execution_count": null,
   "metadata": {},
   "outputs": [],
   "source": []
  },
  {
   "cell_type": "code",
   "execution_count": 455,
   "metadata": {},
   "outputs": [],
   "source": [
    "# Use principal component to reduce dimensions of data onto a single plane\n",
    "pca = PCA(n_components=2, copy=True, whiten=False, svd_solver='auto', tol=0.0, iterated_power='auto', random_state=None)\n",
    "X_pca = pca.fit_transform(training_data)\n",
    "\n",
    "# perform k-means clustering on the data to classify them into distinct groupings\n",
    "number_clusters = 5\n",
    "kmeans = KMeans(n_clusters=number_clusters, init='k-means++', n_init=10, max_iter=300, tol=0.0001, precompute_distances='auto', verbose=0, random_state=None, copy_x=True, n_jobs=1, algorithm='auto').fit(X_pca)"
   ]
  },
  {
   "cell_type": "code",
   "execution_count": 456,
   "metadata": {},
   "outputs": [
    {
     "data": {
      "image/png": "[encoded data removed]",
      "text/plain": [
       "<matplotlib.figure.Figure at 0x1f0933c7550>"
      ]
     },
     "metadata": {},
     "output_type": "display_data"
    }
   ],
   "source": [
    "plt.scatter(X_pca[:,0], X_pca[:,1], c=kmeans.labels_.astype(float))\n",
    "plt.title(\"K-Means clustering of training data\");"
   ]
  },
  {
   "cell_type": "code",
   "execution_count": 457,
   "metadata": {},
   "outputs": [
    {
     "name": "stdout",
     "output_type": "stream",
     "text": [
      "0\n",
      "Angus\n",
      "Argyll and Bute\n",
      "City of Edinburgh\n",
      "Dumfries and Galloway\n",
      "East Ayrshire\n",
      "Highland\n",
      "Na h-Eileanan Siar\n",
      "Orkney Islands\n",
      "Perth and Kinross\n",
      "Renfrewshire\n",
      "South Lanarkshire\n",
      "Stirling\n",
      "West Lothian\n",
      "20.34\n",
      "\n",
      "1\n",
      "Aberdeen City\n",
      "Clackmannanshire\n",
      "Dundee City\n",
      "Falkirk\n",
      "Fife\n",
      "Inverclyde\n",
      "North Ayrshire\n",
      "North Lanarkshire\n",
      "Scottish Borders\n",
      "South Ayrshire\n",
      "West Dunbartonshire\n",
      "23.54\n",
      "\n",
      "2\n",
      "Aberdeenshire\n",
      "East Lothian\n",
      "Midlothian\n",
      "Moray\n",
      "Shetland Islands\n",
      "18.78\n",
      "\n",
      "3\n",
      "East Dunbartonshire\n",
      "East Renfrewshire\n",
      "13.40\n",
      "\n",
      "4\n",
      "Glasgow City\n",
      "29.15\n",
      "\n"
     ]
    }
   ],
   "source": [
    "cluster_labels = kmeans.labels_\n",
    "\n",
    "dict_area_clusters = {}\n",
    "for i in range (0, number_clusters):\n",
    "    dict_area_clusters[i] = []\n",
    "    \n",
    "# add the location labels to a dictionary entry for its cluster along with the average of its columns\n",
    "for i in range (0, (len(cluster_labels))):\n",
    "    dict_area_clusters[cluster_labels[i]].append([training_labels[i][0], np.sum(training_data[i])/len(training_data[i])])\n",
    "    \n",
    "# print names of location in each cluster and the average of each cluster\n",
    "for key, value in dict_area_clusters.items():\n",
    "    print(key)\n",
    "    sum = 0\n",
    "    for i in range(0,len(value)):\n",
    "        sum = sum + value[i][1]\n",
    "        print(value[i][0])\n",
    "    print(\"%.2f\" % (sum/len(value)))\n",
    "    print()"
   ]
  },
  {
   "cell_type": "code",
   "execution_count": 458,
   "metadata": {},
   "outputs": [],
   "source": [
    "# get data with empty columns to predict clusterings\n",
    "test_data = pd.read_csv(\"test_data.csv\", index_col=0).as_matrix() + 1 # add one smoothing\n",
    "labels = pd.read_csv(\"test_data.csv\", usecols=[0]).as_matrix()"
   ]
  },
  {
   "cell_type": "code",
   "execution_count": 459,
   "metadata": {},
   "outputs": [],
   "source": [
    "def sc(train, test_row, column):\n",
    "    similarity = []\n",
    "    for i in range (0,len(train)-1):\n",
    "        mean_x = np.mean(train[i])\n",
    "        mean_y = np.mean(test_row)\n",
    "        similarity.append(1/(1+r(mean_x, mean_y)))\n",
    "    sim_prod = []\n",
    "    for i in range (0,len(train)):\n",
    "        sim_prod.append(similarity*column[i])\n",
    "    return (1/(np.sum(similarty))*np.sum(sim_prod))\n",
    "            \n",
    "def r(mean_x, mean_y):\n",
    "    return (1/(1+(mean_x-mean_y)**2))"
   ]
  },
  {
   "cell_type": "code",
   "execution_count": 460,
   "metadata": {
    "scrolled": true
   },
   "outputs": [
    {
     "ename": "TypeError",
     "evalue": "'numpy.float64' object cannot be interpreted as an integer",
     "output_type": "error",
     "traceback": [
      "\u001b[1;31m---------------------------------------------------------------------------\u001b[0m",
      "\u001b[1;31mTypeError\u001b[0m                                 Traceback (most recent call last)",
      "\u001b[1;32m<ipython-input-460-4490d12444b0>\u001b[0m in \u001b[0;36m<module>\u001b[1;34m()\u001b[0m\n\u001b[0;32m      4\u001b[0m     \u001b[1;32mfor\u001b[0m \u001b[0mj\u001b[0m \u001b[1;32min\u001b[0m \u001b[0mrange\u001b[0m\u001b[1;33m(\u001b[0m\u001b[1;36m0\u001b[0m\u001b[1;33m,\u001b[0m\u001b[0mlen\u001b[0m\u001b[1;33m(\u001b[0m\u001b[0mtest_data\u001b[0m\u001b[1;33m[\u001b[0m\u001b[0mi\u001b[0m\u001b[1;33m]\u001b[0m\u001b[1;33m)\u001b[0m\u001b[1;33m)\u001b[0m\u001b[1;33m:\u001b[0m\u001b[1;33m\u001b[0m\u001b[0m\n\u001b[0;32m      5\u001b[0m         \u001b[1;32mif\u001b[0m\u001b[1;33m(\u001b[0m\u001b[0mmath\u001b[0m\u001b[1;33m.\u001b[0m\u001b[0misnan\u001b[0m\u001b[1;33m(\u001b[0m\u001b[0mtest_data\u001b[0m\u001b[1;33m[\u001b[0m\u001b[0mi\u001b[0m\u001b[1;33m]\u001b[0m\u001b[1;33m[\u001b[0m\u001b[0mj\u001b[0m\u001b[1;33m]\u001b[0m\u001b[1;33m)\u001b[0m\u001b[1;33m)\u001b[0m\u001b[1;33m:\u001b[0m\u001b[1;33m\u001b[0m\u001b[0m\n\u001b[1;32m----> 6\u001b[1;33m             \u001b[0mtest_data\u001b[0m\u001b[1;33m[\u001b[0m\u001b[0mi\u001b[0m\u001b[1;33m]\u001b[0m\u001b[1;33m[\u001b[0m\u001b[0mj\u001b[0m\u001b[1;33m]\u001b[0m \u001b[1;33m=\u001b[0m \u001b[0msc\u001b[0m\u001b[1;33m(\u001b[0m\u001b[0mtraining_data\u001b[0m\u001b[1;33m,\u001b[0m \u001b[0mtest_data\u001b[0m\u001b[1;33m[\u001b[0m\u001b[0mi\u001b[0m\u001b[1;33m]\u001b[0m\u001b[1;33m[\u001b[0m\u001b[0mj\u001b[0m\u001b[1;33m]\u001b[0m\u001b[1;33m,\u001b[0m \u001b[0mnp\u001b[0m\u001b[1;33m.\u001b[0m\u001b[0mtranspose\u001b[0m\u001b[1;33m(\u001b[0m\u001b[0mtraining_data\u001b[0m\u001b[1;33m)\u001b[0m\u001b[1;33m[\u001b[0m\u001b[0mj\u001b[0m\u001b[1;33m]\u001b[0m\u001b[1;33m)\u001b[0m\u001b[1;33m\u001b[0m\u001b[0m\n\u001b[0m\u001b[0;32m      7\u001b[0m \u001b[1;33m\u001b[0m\u001b[0m\n\u001b[0;32m      8\u001b[0m \u001b[1;33m\u001b[0m\u001b[0m\n",
      "\u001b[1;32m<ipython-input-459-24771b6022f6>\u001b[0m in \u001b[0;36msc\u001b[1;34m(train, test_row, column)\u001b[0m\n\u001b[0;32m      7\u001b[0m     \u001b[0msim_prod\u001b[0m \u001b[1;33m=\u001b[0m \u001b[1;33m[\u001b[0m\u001b[1;33m]\u001b[0m\u001b[1;33m\u001b[0m\u001b[0m\n\u001b[0;32m      8\u001b[0m     \u001b[1;32mfor\u001b[0m \u001b[0mi\u001b[0m \u001b[1;32min\u001b[0m \u001b[0mrange\u001b[0m \u001b[1;33m(\u001b[0m\u001b[1;36m0\u001b[0m\u001b[1;33m,\u001b[0m\u001b[0mlen\u001b[0m\u001b[1;33m(\u001b[0m\u001b[0mtrain\u001b[0m\u001b[1;33m)\u001b[0m\u001b[1;33m)\u001b[0m\u001b[1;33m:\u001b[0m\u001b[1;33m\u001b[0m\u001b[0m\n\u001b[1;32m----> 9\u001b[1;33m         \u001b[0msim_prod\u001b[0m\u001b[1;33m.\u001b[0m\u001b[0mappend\u001b[0m\u001b[1;33m(\u001b[0m\u001b[0msimilarity\u001b[0m\u001b[1;33m*\u001b[0m\u001b[0mcolumn\u001b[0m\u001b[1;33m[\u001b[0m\u001b[0mi\u001b[0m\u001b[1;33m]\u001b[0m\u001b[1;33m)\u001b[0m\u001b[1;33m\u001b[0m\u001b[0m\n\u001b[0m\u001b[0;32m     10\u001b[0m     \u001b[1;32mreturn\u001b[0m \u001b[1;33m(\u001b[0m\u001b[1;36m1\u001b[0m\u001b[1;33m/\u001b[0m\u001b[1;33m(\u001b[0m\u001b[0mnp\u001b[0m\u001b[1;33m.\u001b[0m\u001b[0msum\u001b[0m\u001b[1;33m(\u001b[0m\u001b[0msimilarty\u001b[0m\u001b[1;33m)\u001b[0m\u001b[1;33m)\u001b[0m\u001b[1;33m*\u001b[0m\u001b[0mnp\u001b[0m\u001b[1;33m.\u001b[0m\u001b[0msum\u001b[0m\u001b[1;33m(\u001b[0m\u001b[0msim_prod\u001b[0m\u001b[1;33m)\u001b[0m\u001b[1;33m)\u001b[0m\u001b[1;33m\u001b[0m\u001b[0m\n\u001b[0;32m     11\u001b[0m \u001b[1;33m\u001b[0m\u001b[0m\n",
      "\u001b[1;31mTypeError\u001b[0m: 'numpy.float64' object cannot be interpreted as an integer"
     ]
    }
   ],
   "source": [
    "# make predictions on test data\n",
    "\n",
    "for i in range(0, len(test_data)):\n",
    "    for j in range(0,len(test_data[i])):\n",
    "        if(math.isnan(test_data[i][j])):\n",
    "            test_data[i][j] = sc(training_data, test_data[i][j], np.transpose(training_data)[j])\n",
    "\n",
    "    \n",
    "Y_pca = pca.fit_transform(test_data)\n",
    "test_group = kmeans.predict(Y_pca)\n",
    "test_group "
   ]
  },
  {
   "cell_type": "code",
   "execution_count": null,
   "metadata": {},
   "outputs": [],
   "source": [
    "plt.scatter(X_pca[:,0], X_pca[:,1], c=kmeans.labels_.astype(float))\n",
    "plt.scatter(Y_pca[:,0], Y_pca[:,1], marker='*', c=test_group.astype(float))\n",
    "plt.title(\"Test data cluster visualisation\");"
   ]
  },
  {
   "cell_type": "code",
   "execution_count": null,
   "metadata": {},
   "outputs": [],
   "source": []
  }
 ],
 "metadata": {
  "kernelspec": {
   "display_name": "Python 3",
   "language": "python",
   "name": "python3"
  },
  "language_info": {
   "codemirror_mode": {
    "name": "ipython",
    "version": 3
   },
   "file_extension": ".py",
   "mimetype": "text/x-python",
   "name": "python",
   "nbconvert_exporter": "python",
   "pygments_lexer": "ipython3",
   "version": "3.6.4"
  }
 },
 "nbformat": 4,
 "nbformat_minor": 2
}
