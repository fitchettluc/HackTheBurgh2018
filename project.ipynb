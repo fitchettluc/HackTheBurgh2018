{
 "cells": [
  {
   "cell_type": "code",
   "execution_count": 258,
   "metadata": {},
   "outputs": [],
   "source": [
    "import numpy as np\n",
    "from sklearn.cluster import KMeans\n",
    "import csv \n",
    "import pandas as pd\n",
    "import matplotlib.pyplot as plt\n",
    "from sklearn.decomposition import PCA\n",
    "from scipy.cluster.hierarchy import linkage\n",
    "from scipy.cluster.hierarchy import dendrogram"
   ]
  },
  {
   "cell_type": "code",
   "execution_count": 259,
   "metadata": {},
   "outputs": [],
   "source": [
    "training_data = pd.read_csv(\"data_set.csv\", index_col=0).as_matrix() + 1 # add one smoothing\n",
    "training_labels = pd.read_csv(\"data_set.csv\", usecols=[0]).as_matrix()"
   ]
  },
  {
   "cell_type": "code",
   "execution_count": 260,
   "metadata": {},
   "outputs": [
    {
     "data": {
      "text/plain": [
       "\"tree_average = linkage(training_data,'complete','cosine') \\n\\nfig = plt.figure(figsize=(20,25))\\n\\nax = fig.add_subplot(313)\\nax.set_title('Complete linkage', fontsize=25)\\ndendrogram(tree_average, labels=training_labels, orientation= 'right',  leaf_font_size = 12, ax = ax);\\n\\nplt.tight_layout()\""
      ]
     },
     "execution_count": 260,
     "metadata": {},
     "output_type": "execute_result"
    }
   ],
   "source": [
    "\"\"\"tree_average = linkage(training_data,'complete','cosine') \n",
    "\n",
    "fig = plt.figure(figsize=(20,25))\n",
    "\n",
    "ax = fig.add_subplot(313)\n",
    "ax.set_title('Complete linkage', fontsize=25)\n",
    "dendrogram(tree_average, labels=training_labels, orientation= 'right',  leaf_font_size = 12, ax = ax);\n",
    "\n",
    "plt.tight_layout()\"\"\""
   ]
  },
  {
   "cell_type": "code",
   "execution_count": 261,
   "metadata": {},
   "outputs": [],
   "source": [
    "# Use principal component to reduce dimensions of data onto a single plane\n",
    "pca = PCA(n_components=2, copy=True, whiten=False, svd_solver='auto', tol=0.0, iterated_power='auto', random_state=None)\n",
    "X_pca = pca.fit_transform(training_data)\n",
    "\n",
    "# perform k-means clustering on the data to classify them into distinct groupings\n",
    "number_clusters = 5\n",
    "kmeans = KMeans(n_clusters=number_clusters, init='k-means++', n_init=10, max_iter=300, tol=0.0001, precompute_distances='auto', verbose=0, random_state=None, copy_x=True, n_jobs=1, algorithm='auto').fit(X_pca)"
   ]
  },
  {
   "cell_type": "code",
   "execution_count": 262,
   "metadata": {},
   "outputs": [
    {
     "data": {
      "image/png": "[encoded data removed]",
      "text/plain": [
       "<matplotlib.figure.Figure at 0x1f092c90828>"
      ]
     },
     "metadata": {},
     "output_type": "display_data"
    }
   ],
   "source": [
    "plt.scatter(X_pca[:,0], X_pca[:,1], c=kmeans.labels_.astype(float))\n",
    "plt.title(\"K-Means clustering of training data\");"
   ]
  },
  {
   "cell_type": "code",
   "execution_count": 263,
   "metadata": {},
   "outputs": [
    {
     "name": "stdout",
     "output_type": "stream",
     "text": [
      "0\n",
      "Aberdeen City\n",
      "Clackmannanshire\n",
      "Dundee City\n",
      "Falkirk\n",
      "Fife\n",
      "North Ayrshire\n",
      "North Lanarkshire\n",
      "South Ayrshire\n",
      "West Dunbartonshire\n",
      "23.86\n",
      "\n",
      "1\n",
      "Aberdeenshire\n",
      "Argyll and Bute\n",
      "East Lothian\n",
      "Midlothian\n",
      "Moray\n",
      "Shetland Islands\n",
      "18.85\n",
      "\n",
      "2\n",
      "East Dunbartonshire\n",
      "East Renfrewshire\n",
      "13.40\n",
      "\n",
      "3\n",
      "Angus\n",
      "City of Edinburgh\n",
      "Dumfries and Galloway\n",
      "East Ayrshire\n",
      "Highland\n",
      "Inverclyde\n",
      "Na h-Eileanan Siar\n",
      "Orkney Islands\n",
      "Perth and Kinross\n",
      "Renfrewshire\n",
      "Scottish Borders\n",
      "South Lanarkshire\n",
      "Stirling\n",
      "West Lothian\n",
      "20.67\n",
      "\n",
      "4\n",
      "Glasgow City\n",
      "29.15\n",
      "\n"
     ]
    }
   ],
   "source": [
    "cluster_labels = kmeans.labels_\n",
    "\n",
    "dict_area_clusters = {}\n",
    "for i in range (0, number_clusters):\n",
    "    dict_area_clusters[i] = []\n",
    "    \n",
    "# add the location labels to a dictionary entry for its cluster along with the average of its columns\n",
    "for i in range (0, (len(cluster_labels))):\n",
    "    dict_area_clusters[cluster_labels[i]].append([training_labels[i][0], np.sum(training_data[i])/len(training_data[i])])\n",
    "    \n",
    "# print names of location in each cluster and the average of each cluster\n",
    "for key, value in dict_area_clusters.items():\n",
    "    print(key)\n",
    "    sum = 0\n",
    "    for i in range(0,len(value)):\n",
    "        sum = sum + value[i][1]\n",
    "        print(value[i][0])\n",
    "    print(\"%.2f\" % (sum/len(value)))\n",
    "    print()"
   ]
  },
  {
   "cell_type": "code",
   "execution_count": 264,
   "metadata": {},
   "outputs": [],
   "source": [
    "# get data with empty columns to predict clusterings\n",
    "test_data = pd.read_csv(\"test_data.csv\", index_col=0).as_matrix() + 1 # add one smoothing\n",
    "labels = pd.read_csv(\"test_data.csv\", usecols=[0]).as_matrix()"
   ]
  },
  {
   "cell_type": "code",
   "execution_count": 265,
   "metadata": {},
   "outputs": [
    {
     "data": {
      "text/plain": [
       "array([2, 4])"
      ]
     },
     "execution_count": 265,
     "metadata": {},
     "output_type": "execute_result"
    }
   ],
   "source": [
    "# make predictions on test data\n",
    "Y_pca = pca.fit_transform(test_data)\n",
    "test_group = kmeans.predict(Y_pca)\n",
    "test_group "
   ]
  },
  {
   "cell_type": "code",
   "execution_count": 266,
   "metadata": {},
   "outputs": [
    {
     "data": {
      "image/png": "[encoded data removed]",
      "text/plain": [
       "<matplotlib.figure.Figure at 0x1f092c88ac8>"
      ]
     },
     "metadata": {},
     "output_type": "display_data"
    }
   ],
   "source": [
    "plt.scatter(X_pca[:,0], X_pca[:,1], c=kmeans.labels_.astype(float))\n",
    "plt.scatter(Y_pca[:,0], Y_pca[:,1], marker='*', c=test_group.astype(float))\n",
    "plt.title(\"Test data cluster visualisation\");"
   ]
  },
  {
   "cell_type": "code",
   "execution_count": 267,
   "metadata": {},
   "outputs": [],
   "source": [
    "# based on averages say if good"
   ]
  }
 ],
 "metadata": {
  "kernelspec": {
   "display_name": "Python 3",
   "language": "python",
   "name": "python3"
  },
  "language_info": {
   "codemirror_mode": {
    "name": "ipython",
    "version": 3
   },
   "file_extension": ".py",
   "mimetype": "text/x-python",
   "name": "python",
   "nbconvert_exporter": "python",
   "pygments_lexer": "ipython3",
   "version": "3.6.4"
  }
 },
 "nbformat": 4,
 "nbformat_minor": 2
}
